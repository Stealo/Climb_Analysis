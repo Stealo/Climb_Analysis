{
  "nbformat": 4,
  "nbformat_minor": 0,
  "metadata": {
    "colab": {
      "name": "Climb.ipynb",
      "provenance": [],
      "collapsed_sections": [],
      "authorship_tag": "ABX9TyMyopC6QacG+pdcderSpkdd",
      "include_colab_link": true
    },
    "kernelspec": {
      "name": "python3",
      "display_name": "Python 3"
    }
  },
  "cells": [
    {
      "cell_type": "markdown",
      "metadata": {
        "id": "view-in-github",
        "colab_type": "text"
      },
      "source": [
        "<a href=\"https://colab.research.google.com/github/Stealo/Climb_Analysis/blob/main/Climb.ipynb\" target=\"_parent\"><img src=\"https://colab.research.google.com/assets/colab-badge.svg\" alt=\"Open In Colab\"/></a>"
      ]
    },
    {
      "cell_type": "markdown",
      "metadata": {
        "id": "XH5Z-PCofALx"
      },
      "source": [
        "<h1>IFSC International federation of sport climbing</h1>\n",
        "\n",
        "Analyse des résultats des compétition IFSC, fédération international des sports de grimpes.\n",
        "\n"
      ]
    },
    {
      "cell_type": "markdown",
      "metadata": {
        "id": "A_Cb9Id-f_pI"
      },
      "source": [
        "1.   Importation des librairies et modules\n",
        "2.   link au csv stocké dans Google Drive\n",
        "\n",
        "<hr>\n",
        "\n"
      ]
    },
    {
      "cell_type": "code",
      "metadata": {
        "id": "3Am-q92mdnpQ",
        "outputId": "8306cc85-d770-46e0-85a5-51cc614e8e51",
        "colab": {
          "base_uri": "https://localhost:8080/",
          "height": 609
        }
      },
      "source": [
        "# import libraires\n",
        "import pandas as pd\n",
        "import numpy as np \n",
        "import seaborn as sns\n",
        "import matplotlib.pyplot as plt\n",
        "\n",
        "# import google drive\n",
        "from google.colab import drive\n",
        "drive.mount('/content/gdrive', force_remount=True)\n",
        "root_path = 'gdrive/My Drive/Colab Notebooks'\n",
        "datasets = pd.read_csv(root_path+'/data/boulder_results.csv', usecols = ['Competition Title', 'Competition Date', 'FIRST', 'LAST', 'Nation', 'StartNr', 'Rank', 'Qualification', 'Qualification 1', 'Qualification 2', 'Semifinal', 'Final', 'Category'])\n",
        "\n",
        "datasets.head()"
      ],
      "execution_count": 48,
      "outputs": [
        {
          "output_type": "stream",
          "text": [
            "Mounted at /content/gdrive\n"
          ],
          "name": "stdout"
        },
        {
          "output_type": "execute_result",
          "data": {
            "text/html": [
              "<div>\n",
              "<style scoped>\n",
              "    .dataframe tbody tr th:only-of-type {\n",
              "        vertical-align: middle;\n",
              "    }\n",
              "\n",
              "    .dataframe tbody tr th {\n",
              "        vertical-align: top;\n",
              "    }\n",
              "\n",
              "    .dataframe thead th {\n",
              "        text-align: right;\n",
              "    }\n",
              "</style>\n",
              "<table border=\"1\" class=\"dataframe\">\n",
              "  <thead>\n",
              "    <tr style=\"text-align: right;\">\n",
              "      <th></th>\n",
              "      <th>Competition Title</th>\n",
              "      <th>Competition Date</th>\n",
              "      <th>FIRST</th>\n",
              "      <th>LAST</th>\n",
              "      <th>Nation</th>\n",
              "      <th>StartNr</th>\n",
              "      <th>Rank</th>\n",
              "      <th>Qualification</th>\n",
              "      <th>Qualification 1</th>\n",
              "      <th>Qualification 2</th>\n",
              "      <th>Semifinal</th>\n",
              "      <th>Final</th>\n",
              "      <th>Category</th>\n",
              "    </tr>\n",
              "  </thead>\n",
              "  <tbody>\n",
              "    <tr>\n",
              "      <th>0</th>\n",
              "      <td>European Youth Championships (B) - Brixen (ITA...</td>\n",
              "      <td>20  - 22 September 2019</td>\n",
              "      <td>Naile</td>\n",
              "      <td>MEIGNAN</td>\n",
              "      <td>FRA</td>\n",
              "      <td>15.0</td>\n",
              "      <td>1</td>\n",
              "      <td>6T7z99</td>\n",
              "      <td>NaN</td>\n",
              "      <td>NaN</td>\n",
              "      <td>3T4z55</td>\n",
              "      <td>3T4z89</td>\n",
              "      <td>boulder</td>\n",
              "    </tr>\n",
              "    <tr>\n",
              "      <th>1</th>\n",
              "      <td>European Youth Championships (B) - Brixen (ITA...</td>\n",
              "      <td>20  - 22 September 2019</td>\n",
              "      <td>Miriam</td>\n",
              "      <td>FOGU</td>\n",
              "      <td>ITA</td>\n",
              "      <td>27.0</td>\n",
              "      <td>2</td>\n",
              "      <td>4T8z814</td>\n",
              "      <td>NaN</td>\n",
              "      <td>NaN</td>\n",
              "      <td>3T4z55</td>\n",
              "      <td>2T4z27</td>\n",
              "      <td>boulder</td>\n",
              "    </tr>\n",
              "    <tr>\n",
              "      <th>2</th>\n",
              "      <td>European Youth Championships (B) - Brixen (ITA...</td>\n",
              "      <td>20  - 22 September 2019</td>\n",
              "      <td>Vanda</td>\n",
              "      <td>MICHALKOVA</td>\n",
              "      <td>SVK</td>\n",
              "      <td>48.0</td>\n",
              "      <td>3</td>\n",
              "      <td>6T7z89</td>\n",
              "      <td>NaN</td>\n",
              "      <td>NaN</td>\n",
              "      <td>3T3z43</td>\n",
              "      <td>2T3z23</td>\n",
              "      <td>boulder</td>\n",
              "    </tr>\n",
              "    <tr>\n",
              "      <th>3</th>\n",
              "      <td>European Youth Championships (B) - Brixen (ITA...</td>\n",
              "      <td>20  - 22 September 2019</td>\n",
              "      <td>Lola</td>\n",
              "      <td>SAUTIER</td>\n",
              "      <td>FRA</td>\n",
              "      <td>17.0</td>\n",
              "      <td>4</td>\n",
              "      <td>4T6z69</td>\n",
              "      <td>NaN</td>\n",
              "      <td>NaN</td>\n",
              "      <td>2T3z89</td>\n",
              "      <td>1T3z38</td>\n",
              "      <td>boulder</td>\n",
              "    </tr>\n",
              "    <tr>\n",
              "      <th>4</th>\n",
              "      <td>European Youth Championships (B) - Brixen (ITA...</td>\n",
              "      <td>20  - 22 September 2019</td>\n",
              "      <td>Polina</td>\n",
              "      <td>KULAGINA</td>\n",
              "      <td>RUS</td>\n",
              "      <td>39.0</td>\n",
              "      <td>5</td>\n",
              "      <td>4T6z611</td>\n",
              "      <td>NaN</td>\n",
              "      <td>NaN</td>\n",
              "      <td>3T4z76</td>\n",
              "      <td>1T3z47</td>\n",
              "      <td>boulder</td>\n",
              "    </tr>\n",
              "  </tbody>\n",
              "</table>\n",
              "</div>"
            ],
            "text/plain": [
              "                                   Competition Title  ... Category\n",
              "0  European Youth Championships (B) - Brixen (ITA...  ...  boulder\n",
              "1  European Youth Championships (B) - Brixen (ITA...  ...  boulder\n",
              "2  European Youth Championships (B) - Brixen (ITA...  ...  boulder\n",
              "3  European Youth Championships (B) - Brixen (ITA...  ...  boulder\n",
              "4  European Youth Championships (B) - Brixen (ITA...  ...  boulder\n",
              "\n",
              "[5 rows x 13 columns]"
            ]
          },
          "metadata": {
            "tags": []
          },
          "execution_count": 48
        }
      ]
    },
    {
      "cell_type": "markdown",
      "metadata": {
        "id": "LEx8F79dglGA"
      },
      "source": [
        "</br></br>\n",
        "\n",
        "Récupération des informations du dataset\n",
        "\n",
        "<hr>"
      ]
    },
    {
      "cell_type": "code",
      "metadata": {
        "id": "vNpCo2Y3fNy7",
        "outputId": "654149ff-67b6-44f5-b821-d90aeb69d135",
        "colab": {
          "base_uri": "https://localhost:8080/"
        }
      },
      "source": [
        "datasets.info()"
      ],
      "execution_count": 49,
      "outputs": [
        {
          "output_type": "stream",
          "text": [
            "<class 'pandas.core.frame.DataFrame'>\n",
            "RangeIndex: 9741 entries, 0 to 9740\n",
            "Data columns (total 13 columns):\n",
            " #   Column             Non-Null Count  Dtype  \n",
            "---  ------             --------------  -----  \n",
            " 0   Competition Title  9741 non-null   object \n",
            " 1   Competition Date   9741 non-null   object \n",
            " 2   FIRST              9741 non-null   object \n",
            " 3   LAST               9741 non-null   object \n",
            " 4   Nation             9741 non-null   object \n",
            " 5   StartNr            9325 non-null   float64\n",
            " 6   Rank               9741 non-null   int64  \n",
            " 7   Qualification      5432 non-null   object \n",
            " 8   Qualification 1    2154 non-null   object \n",
            " 9   Qualification 2    2155 non-null   object \n",
            " 10  Semifinal          1524 non-null   object \n",
            " 11  Final              1458 non-null   object \n",
            " 12  Category           9741 non-null   object \n",
            "dtypes: float64(1), int64(1), object(11)\n",
            "memory usage: 989.4+ KB\n"
          ],
          "name": "stdout"
        }
      ]
    },
    {
      "cell_type": "markdown",
      "metadata": {
        "id": "0vvibqlpgwp2"
      },
      "source": [
        "</br></br>\n",
        "\n",
        "Vérification des noms uniques \n",
        "\n",
        "<hr>"
      ]
    },
    {
      "cell_type": "code",
      "metadata": {
        "id": "1obnMlZfagTK",
        "outputId": "fd80246c-281d-4cbc-e8aa-3018104ff7b3",
        "colab": {
          "base_uri": "https://localhost:8080/"
        }
      },
      "source": [
        "datasets['Competition Title'].unique()"
      ],
      "execution_count": 50,
      "outputs": [
        {
          "output_type": "execute_result",
          "data": {
            "text/plain": [
              "array(['European Youth Championships (B) - Brixen (ITA) 2019',\n",
              "       'European Championship (B) - Zakopane (POL) 2019',\n",
              "       'IFSC Youth World Championships -  Arco (ITA) 2019 ',\n",
              "       'IFSC Climbing World Championships - Hachioji (JPN) 2019',\n",
              "       'IFSC Climbing Worldcup (B) - Vail (USA) 2019 ',\n",
              "       'European Youth Cup (B) - Sofia (BUL) 2019',\n",
              "       'IFSC Climbing Worldcup (B) - Munich (GER) 2019',\n",
              "       'European Youth Cup (B) - Graz (AUT) 2019',\n",
              "       'IFSC Climbing Worldcup (B,S) - Wujiang (CHN) 2019',\n",
              "       'European Youth Cup (B) - Soure (POR) 2019',\n",
              "       'IFSC Climbing Worldcup (B,S) - Chongqing (CHN) 2019',\n",
              "       'IFSC Climbing Worldcup (B,S) - Moscow (RUS) 2019 ',\n",
              "       'IFSC Climbing Worldcup (B) - Meiringen (SUI) 2019 ',\n",
              "       'Asian Cup (B) - Hong Kong (HKG) 2019',\n",
              "       'IFSC PanAmerican Championship (L, S, B, C) - Guayaquil (ECU) 2018',\n",
              "       'Asian Championships - Kurayoshi (JPN) 2018 ',\n",
              "       'Asian Youth Championships - Chongqing (CHN) 2018',\n",
              "       'IFSC Climbing World Championships - Innsbruck (AUT) 2018',\n",
              "       'European Youth Championships (B) - Brussels (BEL) 2018 ',\n",
              "       'IFSC Climbing Worldcup (B) - Munich (GER) 2018 ',\n",
              "       'IFSC Youth World Championships -  Moscow (RUS) 2018',\n",
              "       'European Youth Cup (B) - Sofia (BUL) 2018 ',\n",
              "       'Asia Cup (B,S) - Bangkok (THA) 2018',\n",
              "       'IFSC Climbing Worldcup (B) - Vail (USA) 2018 ',\n",
              "       'IFSC Climbing Worldcup (B) - Hachioji (JPN) 2018 ',\n",
              "       'European Youth Cup (B) - Delft (NED) 2018 ',\n",
              "       \"IFSC Climbing Worldcup (B,S) - Tai'an (CHN) 2018 \",\n",
              "       'European Youth Cup (B) - Soure (POR) 2018 ',\n",
              "       'IFSC Climbing Worldcup (B,S) - Chongqing (CHN) 2018 ',\n",
              "       'European Youth Cup (B) - Graz (AUT) 2018 ',\n",
              "       'IFSC Climbing Worldcup (B,S) - Moscow (RUS) 2018 ',\n",
              "       'IFSC Climbing Worldcup (B) - Meiringen (SUI) 2018 ',\n",
              "       'Asia Cup (B) - Hong Kong (HKG) 2018'], dtype=object)"
            ]
          },
          "metadata": {
            "tags": []
          },
          "execution_count": 50
        }
      ]
    },
    {
      "cell_type": "markdown",
      "metadata": {
        "id": "huTQr13Ag7E6"
      },
      "source": [
        "</br></br>\n",
        "\n",
        "Déclaration et récupération des informations de la colonne 'Competition Title' pour les championnat européen\n",
        "\n",
        "<hr>"
      ]
    },
    {
      "cell_type": "code",
      "metadata": {
        "id": "_0maGouaa0yj"
      },
      "source": [
        "competition = datasets[datasets['Competition Title'] == 'European Championship (B) - Zakopane (POL) 2019'].copy()"
      ],
      "execution_count": 51,
      "outputs": []
    },
    {
      "cell_type": "code",
      "metadata": {
        "id": "8QAdMkY6bO2r",
        "outputId": "44e7152f-f1df-441d-faea-33003e72bbab",
        "colab": {
          "base_uri": "https://localhost:8080/"
        }
      },
      "source": [
        "competition.info()"
      ],
      "execution_count": 52,
      "outputs": [
        {
          "output_type": "stream",
          "text": [
            "<class 'pandas.core.frame.DataFrame'>\n",
            "Int64Index: 91 entries, 282 to 372\n",
            "Data columns (total 13 columns):\n",
            " #   Column             Non-Null Count  Dtype  \n",
            "---  ------             --------------  -----  \n",
            " 0   Competition Title  91 non-null     object \n",
            " 1   Competition Date   91 non-null     object \n",
            " 2   FIRST              91 non-null     object \n",
            " 3   LAST               91 non-null     object \n",
            " 4   Nation             91 non-null     object \n",
            " 5   StartNr            91 non-null     float64\n",
            " 6   Rank               91 non-null     int64  \n",
            " 7   Qualification      91 non-null     object \n",
            " 8   Qualification 1    0 non-null      object \n",
            " 9   Qualification 2    0 non-null      object \n",
            " 10  Semifinal          40 non-null     object \n",
            " 11  Final              12 non-null     object \n",
            " 12  Category           91 non-null     object \n",
            "dtypes: float64(1), int64(1), object(11)\n",
            "memory usage: 10.0+ KB\n"
          ],
          "name": "stdout"
        }
      ]
    },
    {
      "cell_type": "code",
      "metadata": {
        "id": "q1CBG8gkbfA2",
        "outputId": "10d57c2c-ca33-4564-f109-567e7654f7e0",
        "colab": {
          "base_uri": "https://localhost:8080/",
          "height": 591
        }
      },
      "source": [
        "competition.head(5)"
      ],
      "execution_count": 53,
      "outputs": [
        {
          "output_type": "execute_result",
          "data": {
            "text/html": [
              "<div>\n",
              "<style scoped>\n",
              "    .dataframe tbody tr th:only-of-type {\n",
              "        vertical-align: middle;\n",
              "    }\n",
              "\n",
              "    .dataframe tbody tr th {\n",
              "        vertical-align: top;\n",
              "    }\n",
              "\n",
              "    .dataframe thead th {\n",
              "        text-align: right;\n",
              "    }\n",
              "</style>\n",
              "<table border=\"1\" class=\"dataframe\">\n",
              "  <thead>\n",
              "    <tr style=\"text-align: right;\">\n",
              "      <th></th>\n",
              "      <th>Competition Title</th>\n",
              "      <th>Competition Date</th>\n",
              "      <th>FIRST</th>\n",
              "      <th>LAST</th>\n",
              "      <th>Nation</th>\n",
              "      <th>StartNr</th>\n",
              "      <th>Rank</th>\n",
              "      <th>Qualification</th>\n",
              "      <th>Qualification 1</th>\n",
              "      <th>Qualification 2</th>\n",
              "      <th>Semifinal</th>\n",
              "      <th>Final</th>\n",
              "      <th>Category</th>\n",
              "    </tr>\n",
              "  </thead>\n",
              "  <tbody>\n",
              "    <tr>\n",
              "      <th>282</th>\n",
              "      <td>European Championship (B) - Zakopane (POL) 2019</td>\n",
              "      <td>5  - 7 September 2019</td>\n",
              "      <td>Urska</td>\n",
              "      <td>REPUSIC</td>\n",
              "      <td>SLO</td>\n",
              "      <td>63.0</td>\n",
              "      <td>1</td>\n",
              "      <td>3T4z68</td>\n",
              "      <td>NaN</td>\n",
              "      <td>NaN</td>\n",
              "      <td>3T4z67</td>\n",
              "      <td>3T4z45</td>\n",
              "      <td>ldering</td>\n",
              "    </tr>\n",
              "    <tr>\n",
              "      <th>283</th>\n",
              "      <td>European Championship (B) - Zakopane (POL) 2019</td>\n",
              "      <td>5  - 7 September 2019</td>\n",
              "      <td>Vita</td>\n",
              "      <td>LUKAN</td>\n",
              "      <td>SLO</td>\n",
              "      <td>61.0</td>\n",
              "      <td>2</td>\n",
              "      <td>5T5z118</td>\n",
              "      <td>NaN</td>\n",
              "      <td>NaN</td>\n",
              "      <td>3T4z57</td>\n",
              "      <td>3T4z68</td>\n",
              "      <td>ldering</td>\n",
              "    </tr>\n",
              "    <tr>\n",
              "      <th>284</th>\n",
              "      <td>European Championship (B) - Zakopane (POL) 2019</td>\n",
              "      <td>5  - 7 September 2019</td>\n",
              "      <td>Irina</td>\n",
              "      <td>KUZMENKO</td>\n",
              "      <td>RUS</td>\n",
              "      <td>68.0</td>\n",
              "      <td>3</td>\n",
              "      <td>5T5z1513</td>\n",
              "      <td>NaN</td>\n",
              "      <td>NaN</td>\n",
              "      <td>3T4z510</td>\n",
              "      <td>3T4z817</td>\n",
              "      <td>ldering</td>\n",
              "    </tr>\n",
              "    <tr>\n",
              "      <th>285</th>\n",
              "      <td>European Championship (B) - Zakopane (POL) 2019</td>\n",
              "      <td>5  - 7 September 2019</td>\n",
              "      <td>Alma</td>\n",
              "      <td>BESTVATER</td>\n",
              "      <td>GER</td>\n",
              "      <td>67.0</td>\n",
              "      <td>4</td>\n",
              "      <td>4T4z84</td>\n",
              "      <td>NaN</td>\n",
              "      <td>NaN</td>\n",
              "      <td>3T4z46</td>\n",
              "      <td>3T3z33</td>\n",
              "      <td>ldering</td>\n",
              "    </tr>\n",
              "    <tr>\n",
              "      <th>286</th>\n",
              "      <td>European Championship (B) - Zakopane (POL) 2019</td>\n",
              "      <td>5  - 7 September 2019</td>\n",
              "      <td>Yael</td>\n",
              "      <td>TAUB</td>\n",
              "      <td>ISR</td>\n",
              "      <td>90.0</td>\n",
              "      <td>5</td>\n",
              "      <td>2T5z410</td>\n",
              "      <td>NaN</td>\n",
              "      <td>NaN</td>\n",
              "      <td>3T4z56</td>\n",
              "      <td>2T3z46</td>\n",
              "      <td>ldering</td>\n",
              "    </tr>\n",
              "  </tbody>\n",
              "</table>\n",
              "</div>"
            ],
            "text/plain": [
              "                                   Competition Title  ... Category\n",
              "282  European Championship (B) - Zakopane (POL) 2019  ...  ldering\n",
              "283  European Championship (B) - Zakopane (POL) 2019  ...  ldering\n",
              "284  European Championship (B) - Zakopane (POL) 2019  ...  ldering\n",
              "285  European Championship (B) - Zakopane (POL) 2019  ...  ldering\n",
              "286  European Championship (B) - Zakopane (POL) 2019  ...  ldering\n",
              "\n",
              "[5 rows x 13 columns]"
            ]
          },
          "metadata": {
            "tags": []
          },
          "execution_count": 53
        }
      ]
    }
  ]
}